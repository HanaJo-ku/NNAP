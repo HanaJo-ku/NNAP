{
 "cells": [
  {
   "cell_type": "code",
   "execution_count": 1,
   "metadata": {},
   "outputs": [],
   "source": [
    "import os\n",
    "import numpy as np\n",
    "import pandas as pd\n",
    "import torch\n",
    "import random\n",
    "import re\n",
    "\n",
    "from tqdm import tqdm\n",
    "from itertools import combinations\n",
    "from collections import deque\n",
    "from transformers import AutoTokenizer\n",
    "from sklearn.model_selection import train_test_split"
   ]
  },
  {
   "cell_type": "markdown",
   "metadata": {},
   "source": [
    "### Preprocessing"
   ]
  },
  {
   "cell_type": "code",
   "execution_count": 2,
   "metadata": {},
   "outputs": [
    {
     "name": "stdout",
     "output_type": "stream",
     "text": [
      "Seed set as 1004\n"
     ]
    }
   ],
   "source": [
    "def preprocess_script(script):\n",
    "    new_script = deque()\n",
    "    with open(script,'r',encoding='utf-8') as file:\n",
    "        lines = file.readlines()\n",
    "        for line in lines:\n",
    "            if line.lstrip().startswith('#'): \n",
    "                continue\n",
    "            line = line.rstrip()\n",
    "            if '#' in line:\n",
    "                line = line[:line.index('#')] \n",
    "            line = line.replace('\\n','') \n",
    "            line = line.replace('    ','\\t') \n",
    "            \n",
    "            if line == '': \n",
    "                continue\n",
    "            \n",
    "            new_script.append(line)\n",
    "            \n",
    "        new_script = '\\n'.join(new_script) \n",
    "        new_script = re.sub('(\"\"\"[\\w\\W]*?\"\"\")', '<str>', new_script)\n",
    "        new_script = re.sub(\"('''[\\w\\W]*?''')\", '<str>', new_script)\n",
    "        new_script = re.sub('/^(http?|https?):\\/\\/([a-z0-9-]+\\.)+[a-z0-9]{2,4}.*$/', '', new_script)\n",
    "    \n",
    "    return new_script\n",
    "\n",
    "def seed_everything(seed=1004):\n",
    "  random.seed(seed)\n",
    "  np.random.seed(seed)\n",
    "  torch.backends.cudnn.deterministic = True\n",
    "  torch.backends.cudnn.benchmark = False\n",
    "  torch.manual_seed(seed)\n",
    "  torch.cuda.manual_seed(seed)\n",
    "  torch.cuda.manual_seed_all(seed)\n",
    "  print(f\"Seed set as {seed}\")\n",
    "\n",
    "seed_everything(1004)"
   ]
  },
  {
   "cell_type": "code",
   "execution_count": 3,
   "metadata": {},
   "outputs": [],
   "source": [
    "code_folder = \"./input/code/\"\n",
    "problem_folders = os.listdir(code_folder) "
   ]
  },
  {
   "cell_type": "code",
   "execution_count": 4,
   "metadata": {},
   "outputs": [
    {
     "name": "stderr",
     "output_type": "stream",
     "text": [
      "100%|██████████| 300/300 [00:04<00:00, 68.74it/s]\n"
     ]
    }
   ],
   "source": [
    "preprocess_scripts = []\n",
    "problem_nums = []\n",
    "\n",
    "for problem_folder in tqdm(problem_folders):\n",
    "    scripts = os.listdir(os.path.join(code_folder, problem_folder)) \n",
    "    problem_num = problem_folder \n",
    "    for script in scripts:\n",
    "        script_file = os.path.join(code_folder,problem_folder,script)\n",
    "        preprocessed_script = preprocess_script(script_file)\n",
    "\n",
    "        preprocess_scripts.append(preprocessed_script)\n",
    "\n",
    "    problem_nums.extend([problem_num]*len(scripts))"
   ]
  },
  {
   "cell_type": "code",
   "execution_count": 5,
   "metadata": {},
   "outputs": [],
   "source": [
    "df = pd.DataFrame(data= {'code':preprocess_scripts, 'problem_num':problem_nums})"
   ]
  },
  {
   "cell_type": "code",
   "execution_count": 6,
   "metadata": {},
   "outputs": [],
   "source": [
    "tokenizer = AutoTokenizer.from_pretrained(\"microsoft/graphcodebert-base\")\n",
    "tokenizer.truncation_side = 'left'\n",
    "MAX_LEN = 512\n",
    "\n",
    "tokens = []\n",
    "for code in df['code']:\n",
    "    tokens.append(tokenizer.tokenize(code, max_length=MAX_LEN, truncation=True))\n",
    "\n",
    "df['tokens'] = tokens\n",
    "df['len'] = df['tokens'].apply(len)"
   ]
  },
  {
   "cell_type": "code",
   "execution_count": 7,
   "metadata": {},
   "outputs": [],
   "source": [
    "train_df, valid_df, train_label, valid_label = train_test_split(\n",
    "        df,\n",
    "        df['problem_num'],\n",
    "        random_state=42,\n",
    "        test_size=0.1,\n",
    "        stratify=df['problem_num']\n",
    "    )"
   ]
  },
  {
   "cell_type": "code",
   "execution_count": 34,
   "metadata": {},
   "outputs": [
    {
     "name": "stderr",
     "output_type": "stream",
     "text": [
      "100%|██████████| 300/300 [00:09<00:00, 33.31it/s]\n"
     ]
    }
   ],
   "source": [
    "codes = train_df['code'].to_list()\n",
    "problems = train_df['problem_num'].unique().tolist()\n",
    "problems.sort()\n",
    "\n",
    "total_positive_pairs = []\n",
    "total_negative_pairs = []\n",
    "\n",
    "for problem in tqdm(problems):\n",
    "    solution_codes = train_df[train_df['problem_num'] == problem]['code'].to_list()\n",
    "    other_codes = train_df[train_df['problem_num'] != problem]['code'].to_list()\n",
    "    \n",
    "    positive_pairs = list(combinations(solution_codes,2))\n",
    "    random.shuffle(positive_pairs)\n",
    "    positive_pairs = positive_pairs[:100]\n",
    "    random.shuffle(other_codes)\n",
    "    other_codes = other_codes[:100]\n",
    "    \n",
    "    negative_pairs = []\n",
    "    for pos_codes, others in zip(positive_pairs, other_codes):\n",
    "        negative_pairs.append((pos_codes[0], others))\n",
    "    \n",
    "    total_positive_pairs.extend(positive_pairs)\n",
    "    total_negative_pairs.extend(negative_pairs)"
   ]
  },
  {
   "cell_type": "code",
   "execution_count": 35,
   "metadata": {},
   "outputs": [],
   "source": [
    "code1 = [code[0] for code in total_positive_pairs] + [code[0] for code in total_negative_pairs]\n",
    "code2 = [code[1] for code in total_positive_pairs] + [code[1] for code in total_negative_pairs]\n",
    "label = [1]*len(total_positive_pairs) + [0]*len(total_negative_pairs)\n",
    "\n",
    "train_data = pd.DataFrame(data={'code1':code1, 'code2':code2, 'similar':label})\n",
    "train_data = train_data.sample(frac=1).reset_index(drop=True) # frac: 추출할 표본 비율\n",
    "train_data.to_csv('train_data_lv1.csv',index=False)"
   ]
  },
  {
   "cell_type": "code",
   "execution_count": 14,
   "metadata": {},
   "outputs": [
    {
     "name": "stderr",
     "output_type": "stream",
     "text": [
      "100%|██████████| 300/300 [00:01<00:00, 270.99it/s]\n"
     ]
    }
   ],
   "source": [
    "codes = valid_df['code'].to_list() \n",
    "problems = valid_df['problem_num'].unique().tolist() \n",
    "problems.sort()\n",
    "\n",
    "total_positive_pairs = []\n",
    "total_negative_pairs = []\n",
    "\n",
    "for problem in tqdm(problems):\n",
    "    solution_codes = valid_df[valid_df['problem_num'] == problem]['code'].to_list()\n",
    "    other_codes = valid_df[valid_df['problem_num'] != problem]['code'].to_list()\n",
    "\n",
    "    positive_pairs = list(combinations(solution_codes,2))\n",
    "    random.shuffle(positive_pairs)\n",
    "    positive_pairs = positive_pairs[:100]\n",
    "    random.shuffle(other_codes)\n",
    "    other_codes = other_codes[:100]\n",
    "    \n",
    "    negative_pairs = []\n",
    "    for pos_codes, others in zip(positive_pairs, other_codes):\n",
    "        negative_pairs.append((pos_codes[0], others))\n",
    "    \n",
    "    total_positive_pairs.extend(positive_pairs)\n",
    "    total_negative_pairs.extend(negative_pairs)"
   ]
  },
  {
   "cell_type": "code",
   "execution_count": 15,
   "metadata": {},
   "outputs": [],
   "source": [
    "code1 = [code[0] for code in total_positive_pairs] + [code[0] for code in total_negative_pairs]\n",
    "code2 = [code[1] for code in total_positive_pairs] + [code[1] for code in total_negative_pairs]\n",
    "label = [1]*len(total_positive_pairs) + [0]*len(total_negative_pairs)\n",
    "\n",
    "valid_data = pd.DataFrame(data={'code1':code1, 'code2':code2, 'similar':label})\n",
    "valid_data = valid_data.sample(frac=1).reset_index(drop=True) \n",
    "valid_data.to_csv('valid_data_lv1.csv',index=False)"
   ]
  },
  {
   "cell_type": "code",
   "execution_count": 16,
   "metadata": {},
   "outputs": [],
   "source": [
    "def seed_everything(seed):\n",
    "  torch.manual_seed(seed)\n",
    "  torch.cuda.manual_seed(seed)\n",
    "  torch.cuda.manual_seed_all(seed)\n",
    "  torch.backends.cudnn.deterministic = True\n",
    "  torch.backends.cudnn.benchmark = False\n",
    "  np.random.seed(seed)\n",
    "  random.seed(seed)\n",
    "\n",
    "seed_everything(1004)"
   ]
  },
  {
   "cell_type": "code",
   "execution_count": 36,
   "metadata": {},
   "outputs": [
    {
     "name": "stderr",
     "output_type": "stream",
     "text": [
      "Using custom data configuration default-c8e4987d7c799e22\n"
     ]
    },
    {
     "name": "stdout",
     "output_type": "stream",
     "text": [
      "Downloading and preparing dataset csv/default to C:/Users/johana/.cache/huggingface/datasets/csv/default-c8e4987d7c799e22/0.0.0/652c3096f041ee27b04d2232d41f10547a8fecda3e284a79a0ec4053c916ef7a...\n"
     ]
    },
    {
     "name": "stderr",
     "output_type": "stream",
     "text": [
      "Downloading data files: 100%|██████████| 1/1 [00:00<?, ?it/s]\n",
      "Extracting data files: 100%|██████████| 1/1 [00:00<00:00, 1003.18it/s]\n"
     ]
    },
    {
     "name": "stdout",
     "output_type": "stream",
     "text": [
      "Dataset csv downloaded and prepared to C:/Users/johana/.cache/huggingface/datasets/csv/default-c8e4987d7c799e22/0.0.0/652c3096f041ee27b04d2232d41f10547a8fecda3e284a79a0ec4053c916ef7a. Subsequent calls will reuse this data.\n"
     ]
    },
    {
     "name": "stderr",
     "output_type": "stream",
     "text": [
      "100%|██████████| 1/1 [00:00<00:00, 100.22it/s]\n",
      "Using custom data configuration default-07c938b99a36b8d1\n",
      "Found cached dataset csv (C:/Users/johana/.cache/huggingface/datasets/csv/default-07c938b99a36b8d1/0.0.0/652c3096f041ee27b04d2232d41f10547a8fecda3e284a79a0ec4053c916ef7a)\n",
      "100%|██████████| 1/1 [00:00<00:00, 250.62it/s]\n"
     ]
    }
   ],
   "source": [
    "from datasets import load_metric, load_dataset, Dataset, concatenate_datasets\n",
    "train_dset = load_dataset(\"csv\", data_files='train_data_lv1.csv')['train']\n",
    "validation_dset = load_dataset(\"csv\", data_files='valid_data_lv1.csv')['train']\n",
    "rawdataset = concatenate_datasets([train_dset, validation_dset])"
   ]
  },
  {
   "cell_type": "markdown",
   "metadata": {},
   "source": [
    "### Train"
   ]
  },
  {
   "cell_type": "code",
   "execution_count": 39,
   "metadata": {},
   "outputs": [
    {
     "name": "stderr",
     "output_type": "stream",
     "text": [
      "loading configuration file config.json from cache at C:\\Users\\johana/.cache\\huggingface\\hub\\models--klue--bert-base\\snapshots\\812449f1a6bc736e693db7aa0e513e5e90795a62\\config.json\n",
      "Model config BertConfig {\n",
      "  \"_name_or_path\": \"klue/bert-base\",\n",
      "  \"architectures\": [\n",
      "    \"BertForMaskedLM\"\n",
      "  ],\n",
      "  \"attention_probs_dropout_prob\": 0.1,\n",
      "  \"classifier_dropout\": null,\n",
      "  \"hidden_act\": \"gelu\",\n",
      "  \"hidden_dropout_prob\": 0.1,\n",
      "  \"hidden_size\": 768,\n",
      "  \"initializer_range\": 0.02,\n",
      "  \"intermediate_size\": 3072,\n",
      "  \"layer_norm_eps\": 1e-12,\n",
      "  \"max_position_embeddings\": 512,\n",
      "  \"model_type\": \"bert\",\n",
      "  \"num_attention_heads\": 12,\n",
      "  \"num_hidden_layers\": 12,\n",
      "  \"pad_token_id\": 0,\n",
      "  \"position_embedding_type\": \"absolute\",\n",
      "  \"transformers_version\": \"4.22.2\",\n",
      "  \"type_vocab_size\": 2,\n",
      "  \"use_cache\": true,\n",
      "  \"vocab_size\": 32000\n",
      "}\n",
      "\n",
      "loading file vocab.txt from cache at C:\\Users\\johana/.cache\\huggingface\\hub\\models--klue--bert-base\\snapshots\\812449f1a6bc736e693db7aa0e513e5e90795a62\\vocab.txt\n",
      "loading file tokenizer.json from cache at C:\\Users\\johana/.cache\\huggingface\\hub\\models--klue--bert-base\\snapshots\\812449f1a6bc736e693db7aa0e513e5e90795a62\\tokenizer.json\n",
      "loading file added_tokens.json from cache at None\n",
      "loading file special_tokens_map.json from cache at C:\\Users\\johana/.cache\\huggingface\\hub\\models--klue--bert-base\\snapshots\\812449f1a6bc736e693db7aa0e513e5e90795a62\\special_tokens_map.json\n",
      "loading file tokenizer_config.json from cache at C:\\Users\\johana/.cache\\huggingface\\hub\\models--klue--bert-base\\snapshots\\812449f1a6bc736e693db7aa0e513e5e90795a62\\tokenizer_config.json\n",
      "loading configuration file config.json from cache at C:\\Users\\johana/.cache\\huggingface\\hub\\models--klue--bert-base\\snapshots\\812449f1a6bc736e693db7aa0e513e5e90795a62\\config.json\n",
      "Model config BertConfig {\n",
      "  \"_name_or_path\": \"klue/bert-base\",\n",
      "  \"architectures\": [\n",
      "    \"BertForMaskedLM\"\n",
      "  ],\n",
      "  \"attention_probs_dropout_prob\": 0.1,\n",
      "  \"classifier_dropout\": null,\n",
      "  \"hidden_act\": \"gelu\",\n",
      "  \"hidden_dropout_prob\": 0.1,\n",
      "  \"hidden_size\": 768,\n",
      "  \"initializer_range\": 0.02,\n",
      "  \"intermediate_size\": 3072,\n",
      "  \"layer_norm_eps\": 1e-12,\n",
      "  \"max_position_embeddings\": 512,\n",
      "  \"model_type\": \"bert\",\n",
      "  \"num_attention_heads\": 12,\n",
      "  \"num_hidden_layers\": 12,\n",
      "  \"pad_token_id\": 0,\n",
      "  \"position_embedding_type\": \"absolute\",\n",
      "  \"transformers_version\": \"4.22.2\",\n",
      "  \"type_vocab_size\": 2,\n",
      "  \"use_cache\": true,\n",
      "  \"vocab_size\": 32000\n",
      "}\n",
      "\n",
      "100%|██████████| 120000/120000 [01:40<00:00, 1191.65ex/s]\n",
      "loading configuration file config.json from cache at C:\\Users\\johana/.cache\\huggingface\\hub\\models--klue--bert-base\\snapshots\\812449f1a6bc736e693db7aa0e513e5e90795a62\\config.json\n",
      "Model config BertConfig {\n",
      "  \"architectures\": [\n",
      "    \"BertForMaskedLM\"\n",
      "  ],\n",
      "  \"attention_probs_dropout_prob\": 0.1,\n",
      "  \"classifier_dropout\": null,\n",
      "  \"hidden_act\": \"gelu\",\n",
      "  \"hidden_dropout_prob\": 0.1,\n",
      "  \"hidden_size\": 768,\n",
      "  \"initializer_range\": 0.02,\n",
      "  \"intermediate_size\": 3072,\n",
      "  \"layer_norm_eps\": 1e-12,\n",
      "  \"max_position_embeddings\": 512,\n",
      "  \"model_type\": \"bert\",\n",
      "  \"num_attention_heads\": 12,\n",
      "  \"num_hidden_layers\": 12,\n",
      "  \"pad_token_id\": 0,\n",
      "  \"position_embedding_type\": \"absolute\",\n",
      "  \"transformers_version\": \"4.22.2\",\n",
      "  \"type_vocab_size\": 2,\n",
      "  \"use_cache\": true,\n",
      "  \"vocab_size\": 32000\n",
      "}\n",
      "\n",
      "loading weights file pytorch_model.bin from cache at C:\\Users\\johana/.cache\\huggingface\\hub\\models--klue--bert-base\\snapshots\\812449f1a6bc736e693db7aa0e513e5e90795a62\\pytorch_model.bin\n",
      "Some weights of the model checkpoint at klue/bert-base were not used when initializing BertForSequenceClassification: ['cls.predictions.decoder.weight', 'cls.seq_relationship.weight', 'cls.seq_relationship.bias', 'cls.predictions.transform.dense.weight', 'cls.predictions.transform.LayerNorm.bias', 'cls.predictions.bias', 'cls.predictions.decoder.bias', 'cls.predictions.transform.LayerNorm.weight', 'cls.predictions.transform.dense.bias']\n",
      "- This IS expected if you are initializing BertForSequenceClassification from the checkpoint of a model trained on another task or with another architecture (e.g. initializing a BertForSequenceClassification model from a BertForPreTraining model).\n",
      "- This IS NOT expected if you are initializing BertForSequenceClassification from the checkpoint of a model that you expect to be exactly identical (initializing a BertForSequenceClassification model from a BertForSequenceClassification model).\n",
      "Some weights of BertForSequenceClassification were not initialized from the model checkpoint at klue/bert-base and are newly initialized: ['classifier.bias', 'classifier.weight']\n",
      "You should probably TRAIN this model on a down-stream task to be able to use it for predictions and inference.\n",
      "PyTorch: setting up devices\n",
      " 24%|██▎       | 13152/55689 [1:07:08<3:37:10,  3.26it/s]\n",
      "c:\\Users\\johana\\Anaconda3\\lib\\site-packages\\transformers\\optimization.py:306: FutureWarning: This implementation of AdamW is deprecated and will be removed in a future version. Use the PyTorch implementation torch.optim.AdamW instead, or set `no_deprecation_warning=True` to disable this warning\n",
      "  warnings.warn(\n",
      "***** Running training *****\n",
      "  Num examples = 108000\n",
      "  Num Epochs = 3\n",
      "  Instantaneous batch size per device = 32\n",
      "  Total train batch size (w. parallel, distributed & accumulation) = 32\n",
      "  Gradient Accumulation steps = 1\n",
      "  Total optimization steps = 10125\n",
      "Automatic Weights & Biases logging enabled, to disable set os.environ[\"WANDB_DISABLED\"] = \"true\"\n",
      "  0%|          | 0/10125 [00:00<?, ?it/s]You're using a BertTokenizerFast tokenizer. Please note that with a fast tokenizer, using the `__call__` method is faster than using a method to encode the text followed by a call to the `pad` method to get a padded encoding.\n",
      " 33%|███▎      | 3375/10125 [16:11<32:04,  3.51it/s]***** Running Evaluation *****\n",
      "  Num examples = 12000\n",
      "  Batch size = 8\n"
     ]
    },
    {
     "name": "stdout",
     "output_type": "stream",
     "text": [
      "{'loss': 0.23, 'learning_rate': 3.3333333333333335e-05, 'epoch': 1.0}\n"
     ]
    },
    {
     "name": "stderr",
     "output_type": "stream",
     "text": [
      "                                                    \n",
      " 33%|███▎      | 3375/10125 [16:54<32:04,  3.51it/s]Saving model checkpoint to runs/checkpoint-3375\n",
      "Configuration saved in runs/checkpoint-3375\\config.json\n"
     ]
    },
    {
     "name": "stdout",
     "output_type": "stream",
     "text": [
      "{'eval_loss': 0.16544044017791748, 'eval_accuracy': 0.93125, 'eval_runtime': 42.9684, 'eval_samples_per_second': 279.275, 'eval_steps_per_second': 34.909, 'epoch': 1.0}\n"
     ]
    },
    {
     "name": "stderr",
     "output_type": "stream",
     "text": [
      "Model weights saved in runs/checkpoint-3375\\pytorch_model.bin\n",
      "tokenizer config file saved in runs/checkpoint-3375\\tokenizer_config.json\n",
      "Special tokens file saved in runs/checkpoint-3375\\special_tokens_map.json\n",
      " 67%|██████▋   | 6750/10125 [33:09<16:16,  3.46it/s]   ***** Running Evaluation *****\n",
      "  Num examples = 12000\n",
      "  Batch size = 8\n"
     ]
    },
    {
     "name": "stdout",
     "output_type": "stream",
     "text": [
      "{'loss': 0.1407, 'learning_rate': 1.6666666666666667e-05, 'epoch': 2.0}\n"
     ]
    },
    {
     "name": "stderr",
     "output_type": "stream",
     "text": [
      "                                                    \n",
      " 67%|██████▋   | 6750/10125 [33:53<16:16,  3.46it/s]Saving model checkpoint to runs/checkpoint-6750\n",
      "Configuration saved in runs/checkpoint-6750\\config.json\n"
     ]
    },
    {
     "name": "stdout",
     "output_type": "stream",
     "text": [
      "{'eval_loss': 0.13777361810207367, 'eval_accuracy': 0.944, 'eval_runtime': 44.4703, 'eval_samples_per_second': 269.843, 'eval_steps_per_second': 33.73, 'epoch': 2.0}\n"
     ]
    },
    {
     "name": "stderr",
     "output_type": "stream",
     "text": [
      "Model weights saved in runs/checkpoint-6750\\pytorch_model.bin\n",
      "tokenizer config file saved in runs/checkpoint-6750\\tokenizer_config.json\n",
      "Special tokens file saved in runs/checkpoint-6750\\special_tokens_map.json\n",
      "100%|██████████| 10125/10125 [50:10<00:00,  3.44it/s]  ***** Running Evaluation *****\n",
      "  Num examples = 12000\n",
      "  Batch size = 8\n"
     ]
    },
    {
     "name": "stdout",
     "output_type": "stream",
     "text": [
      "{'loss': 0.0945, 'learning_rate': 0.0, 'epoch': 3.0}\n"
     ]
    },
    {
     "name": "stderr",
     "output_type": "stream",
     "text": [
      "                                                     \n",
      "100%|██████████| 10125/10125 [50:55<00:00,  3.44it/s]Saving model checkpoint to runs/checkpoint-10125\n",
      "Configuration saved in runs/checkpoint-10125\\config.json\n"
     ]
    },
    {
     "name": "stdout",
     "output_type": "stream",
     "text": [
      "{'eval_loss': 0.12032566219568253, 'eval_accuracy': 0.9549166666666666, 'eval_runtime': 44.7159, 'eval_samples_per_second': 268.361, 'eval_steps_per_second': 33.545, 'epoch': 3.0}\n"
     ]
    },
    {
     "name": "stderr",
     "output_type": "stream",
     "text": [
      "Model weights saved in runs/checkpoint-10125\\pytorch_model.bin\n",
      "tokenizer config file saved in runs/checkpoint-10125\\tokenizer_config.json\n",
      "Special tokens file saved in runs/checkpoint-10125\\special_tokens_map.json\n",
      "\n",
      "\n",
      "Training completed. Do not forget to share your model on huggingface.co/models =)\n",
      "\n",
      "\n",
      "100%|██████████| 10125/10125 [50:57<00:00,  3.31it/s]"
     ]
    },
    {
     "name": "stdout",
     "output_type": "stream",
     "text": [
      "{'train_runtime': 3057.1481, 'train_samples_per_second': 105.981, 'train_steps_per_second': 3.312, 'train_loss': 0.15506593303915894, 'epoch': 3.0}\n"
     ]
    },
    {
     "name": "stderr",
     "output_type": "stream",
     "text": [
      "\n"
     ]
    },
    {
     "data": {
      "text/plain": [
       "TrainOutput(global_step=10125, training_loss=0.15506593303915894, metrics={'train_runtime': 3057.1481, 'train_samples_per_second': 105.981, 'train_steps_per_second': 3.312, 'train_loss': 0.15506593303915894, 'epoch': 3.0})"
      ]
     },
     "execution_count": 39,
     "metadata": {},
     "output_type": "execute_result"
    }
   ],
   "source": [
    "from transformers import AutoTokenizer, BertForSequenceClassification, Trainer, TrainingArguments, DataCollatorWithPadding\n",
    "import pandas as pd\n",
    "import numpy as np\n",
    "from datasets import load_dataset, load_metric\n",
    "\n",
    "MODEL = \"klue/bert-base\"\n",
    "MAX_LEN = 256\n",
    "tokenizer = AutoTokenizer.from_pretrained(MODEL)\n",
    "\n",
    "def example_fn(examples):\n",
    "    outputs = tokenizer(examples['code1'], examples['code2'], padding=True, max_length=MAX_LEN,truncation=True)\n",
    "    if 'similar' in examples:\n",
    "        outputs[\"labels\"] = examples[\"similar\"]\n",
    "    return outputs\n",
    "\n",
    "rawdataset = rawdataset.map(example_fn, remove_columns=['code1', 'code2', 'similar'])\n",
    "rawdataset = rawdataset.train_test_split(0.1)\n",
    "\n",
    "_collator = DataCollatorWithPadding(tokenizer=tokenizer)\n",
    "_metric = load_metric(\"glue\", \"sst2\")\n",
    "\n",
    "def metric_fn(p):\n",
    "    preds, labels = p\n",
    "    output =  _metric.compute(references=labels, predictions=np.argmax(preds, axis=-1))\n",
    "    return output\n",
    "    \n",
    "model = BertForSequenceClassification.from_pretrained(MODEL) \n",
    "\n",
    "args = TrainingArguments(\n",
    "    'runs/',\n",
    "    per_device_train_batch_size=32,\n",
    "    num_train_epochs=3,\n",
    "    do_train=True,\n",
    "    do_eval=True,\n",
    "    save_strategy=\"epoch\",\n",
    "    logging_strategy=\"epoch\",\n",
    "    evaluation_strategy=\"epoch\",\n",
    "    report_to=\"wandb\"\n",
    ")\n",
    "\n",
    "trainer = Trainer(\n",
    "        model=model,\n",
    "        args=args,\n",
    "        data_collator=_collator,\n",
    "        train_dataset=rawdataset[\"train\"],\n",
    "        eval_dataset=rawdataset[\"test\"],\n",
    "        tokenizer=tokenizer,\n",
    "        compute_metrics=metric_fn)\n",
    "\n",
    "trainer.train()"
   ]
  },
  {
   "cell_type": "markdown",
   "metadata": {},
   "source": [
    "### Test"
   ]
  },
  {
   "cell_type": "code",
   "execution_count": 41,
   "metadata": {},
   "outputs": [
    {
     "name": "stderr",
     "output_type": "stream",
     "text": [
      "Using custom data configuration default-f16767c7ad6bd23c\n",
      "Found cached dataset csv (C:/Users/johana/.cache/huggingface/datasets/csv/default-f16767c7ad6bd23c/0.0.0/652c3096f041ee27b04d2232d41f10547a8fecda3e284a79a0ec4053c916ef7a)\n",
      "100%|██████████| 1/1 [00:00<00:00, 77.44it/s]\n",
      "100%|██████████| 179700/179700 [02:53<00:00, 1034.03ex/s]\n",
      "The following columns in the test set don't have a corresponding argument in `BertForSequenceClassification.forward` and have been ignored: pair_id. If pair_id are not expected by `BertForSequenceClassification.forward`,  you can safely ignore this message.\n",
      "***** Running Prediction *****\n",
      "  Num examples = 179700\n",
      "  Batch size = 8\n",
      "100%|██████████| 22463/22463 [10:55<00:00, 34.25it/s]\n"
     ]
    }
   ],
   "source": [
    "import pandas as pd\n",
    "\n",
    "TEST = \"input/test.csv\"\n",
    "SUB = \"input/sample_submission.csv\"\n",
    "\n",
    "testdataset = load_dataset(\"csv\", data_files=TEST)['train']\n",
    "test_dataset = testdataset.map(example_fn, remove_columns=['code1', 'code2'])\n",
    "\n",
    "predictions = trainer.predict(test_dataset)\n",
    "\n",
    "df = pd.read_csv(SUB)\n",
    "df['similar'] = np.argmax(predictions.predictions, axis=-1)\n",
    "df.to_csv('submission.csv', index=False)"
   ]
  }
 ],
 "metadata": {
  "kernelspec": {
   "display_name": "Python 3.9.7 ('base')",
   "language": "python",
   "name": "python3"
  },
  "language_info": {
   "codemirror_mode": {
    "name": "ipython",
    "version": 3
   },
   "file_extension": ".py",
   "mimetype": "text/x-python",
   "name": "python",
   "nbconvert_exporter": "python",
   "pygments_lexer": "ipython3",
   "version": "3.9.7"
  },
  "orig_nbformat": 4,
  "vscode": {
   "interpreter": {
    "hash": "039e10d7e89eb140b890b7c995efde1b374b4fd029d12c456c62c4f427cd6ee4"
   }
  }
 },
 "nbformat": 4,
 "nbformat_minor": 2
}
